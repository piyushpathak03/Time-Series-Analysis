{
 "cells": [
  {
   "cell_type": "code",
   "execution_count": null,
   "metadata": {},
   "outputs": [],
   "source": [
    "!pip install fbprophet"
   ]
  },
  {
   "cell_type": "markdown",
   "metadata": {},
   "source": [
    "# 1. Import Dependencies"
   ]
  },
  {
   "cell_type": "code",
   "execution_count": 34,
   "metadata": {},
   "outputs": [],
   "source": [
    "import pandas as pd # Import pandas\n",
    "from fbprophet import Prophet # Prophet modelling library"
   ]
  },
  {
   "cell_type": "markdown",
   "metadata": {},
   "source": [
    "# 2. Load Data"
   ]
  },
  {
   "cell_type": "code",
   "execution_count": 35,
   "metadata": {},
   "outputs": [],
   "source": [
    "df = pd.read_csv('dataset.csv')"
   ]
  },
  {
   "cell_type": "code",
   "execution_count": 36,
   "metadata": {},
   "outputs": [
    {
     "data": {
      "text/html": [
       "<div>\n",
       "<style scoped>\n",
       "    .dataframe tbody tr th:only-of-type {\n",
       "        vertical-align: middle;\n",
       "    }\n",
       "\n",
       "    .dataframe tbody tr th {\n",
       "        vertical-align: top;\n",
       "    }\n",
       "\n",
       "    .dataframe thead th {\n",
       "        text-align: right;\n",
       "    }\n",
       "</style>\n",
       "<table border=\"1\" class=\"dataframe\">\n",
       "  <thead>\n",
       "    <tr style=\"text-align: right;\">\n",
       "      <th></th>\n",
       "      <th>Date</th>\n",
       "      <th>Store/Product</th>\n",
       "      <th>Value</th>\n",
       "    </tr>\n",
       "  </thead>\n",
       "  <tbody>\n",
       "    <tr>\n",
       "      <th>0</th>\n",
       "      <td>20180101</td>\n",
       "      <td>LOS_ANGELES-TESLA_MODEL_X</td>\n",
       "      <td>2926.000</td>\n",
       "    </tr>\n",
       "    <tr>\n",
       "      <th>1</th>\n",
       "      <td>20180102</td>\n",
       "      <td>LOS_ANGELES-TESLA_MODEL_X</td>\n",
       "      <td>2687.531</td>\n",
       "    </tr>\n",
       "    <tr>\n",
       "      <th>2</th>\n",
       "      <td>20180103</td>\n",
       "      <td>LOS_ANGELES-TESLA_MODEL_X</td>\n",
       "      <td>2793.000</td>\n",
       "    </tr>\n",
       "    <tr>\n",
       "      <th>3</th>\n",
       "      <td>20180104</td>\n",
       "      <td>LOS_ANGELES-TESLA_MODEL_X</td>\n",
       "      <td>2394.000</td>\n",
       "    </tr>\n",
       "    <tr>\n",
       "      <th>4</th>\n",
       "      <td>20180105</td>\n",
       "      <td>LOS_ANGELES-TESLA_MODEL_X</td>\n",
       "      <td>2660.000</td>\n",
       "    </tr>\n",
       "  </tbody>\n",
       "</table>\n",
       "</div>"
      ],
      "text/plain": [
       "       Date              Store/Product     Value\n",
       "0  20180101  LOS_ANGELES-TESLA_MODEL_X  2926.000\n",
       "1  20180102  LOS_ANGELES-TESLA_MODEL_X  2687.531\n",
       "2  20180103  LOS_ANGELES-TESLA_MODEL_X  2793.000\n",
       "3  20180104  LOS_ANGELES-TESLA_MODEL_X  2394.000\n",
       "4  20180105  LOS_ANGELES-TESLA_MODEL_X  2660.000"
      ]
     },
     "execution_count": 36,
     "metadata": {},
     "output_type": "execute_result"
    }
   ],
   "source": [
    "df.head()"
   ]
  },
  {
   "cell_type": "code",
   "execution_count": 37,
   "metadata": {},
   "outputs": [
    {
     "data": {
      "text/plain": [
       "Date               int64\n",
       "Store/Product     object\n",
       "Value            float64\n",
       "dtype: object"
      ]
     },
     "execution_count": 37,
     "metadata": {},
     "output_type": "execute_result"
    }
   ],
   "source": [
    "df.dtypes"
   ]
  },
  {
   "cell_type": "markdown",
   "metadata": {},
   "source": [
    "# 3. Apply Data Preprocessing"
   ]
  },
  {
   "cell_type": "code",
   "execution_count": 38,
   "metadata": {},
   "outputs": [],
   "source": [
    "df['Date'] = pd.to_datetime(df['Date'], format='%Y%m%d')"
   ]
  },
  {
   "cell_type": "code",
   "execution_count": 39,
   "metadata": {},
   "outputs": [],
   "source": [
    "frame = df[df['Store/Product'] == 'LOS_ANGELES-TESLA_MODEL_X'].copy()"
   ]
  },
  {
   "cell_type": "code",
   "execution_count": 40,
   "metadata": {},
   "outputs": [],
   "source": [
    "frame.drop('Store/Product', axis=1, inplace=True)"
   ]
  },
  {
   "cell_type": "code",
   "execution_count": 41,
   "metadata": {},
   "outputs": [],
   "source": [
    "frame.columns = ['ds', 'y']"
   ]
  },
  {
   "cell_type": "code",
   "execution_count": 42,
   "metadata": {},
   "outputs": [
    {
     "data": {
      "text/html": [
       "<div>\n",
       "<style scoped>\n",
       "    .dataframe tbody tr th:only-of-type {\n",
       "        vertical-align: middle;\n",
       "    }\n",
       "\n",
       "    .dataframe tbody tr th {\n",
       "        vertical-align: top;\n",
       "    }\n",
       "\n",
       "    .dataframe thead th {\n",
       "        text-align: right;\n",
       "    }\n",
       "</style>\n",
       "<table border=\"1\" class=\"dataframe\">\n",
       "  <thead>\n",
       "    <tr style=\"text-align: right;\">\n",
       "      <th></th>\n",
       "      <th>ds</th>\n",
       "      <th>y</th>\n",
       "    </tr>\n",
       "  </thead>\n",
       "  <tbody>\n",
       "    <tr>\n",
       "      <th>0</th>\n",
       "      <td>2018-01-01</td>\n",
       "      <td>2926.000</td>\n",
       "    </tr>\n",
       "    <tr>\n",
       "      <th>1</th>\n",
       "      <td>2018-01-02</td>\n",
       "      <td>2687.531</td>\n",
       "    </tr>\n",
       "    <tr>\n",
       "      <th>2</th>\n",
       "      <td>2018-01-03</td>\n",
       "      <td>2793.000</td>\n",
       "    </tr>\n",
       "    <tr>\n",
       "      <th>3</th>\n",
       "      <td>2018-01-04</td>\n",
       "      <td>2394.000</td>\n",
       "    </tr>\n",
       "    <tr>\n",
       "      <th>4</th>\n",
       "      <td>2018-01-05</td>\n",
       "      <td>2660.000</td>\n",
       "    </tr>\n",
       "  </tbody>\n",
       "</table>\n",
       "</div>"
      ],
      "text/plain": [
       "          ds         y\n",
       "0 2018-01-01  2926.000\n",
       "1 2018-01-02  2687.531\n",
       "2 2018-01-03  2793.000\n",
       "3 2018-01-04  2394.000\n",
       "4 2018-01-05  2660.000"
      ]
     },
     "execution_count": 42,
     "metadata": {},
     "output_type": "execute_result"
    }
   ],
   "source": [
    "frame.head()"
   ]
  },
  {
   "cell_type": "markdown",
   "metadata": {},
   "source": [
    "# 4. Create Time Series Model"
   ]
  },
  {
   "cell_type": "code",
   "execution_count": 43,
   "metadata": {},
   "outputs": [],
   "source": [
    "m = Prophet(interval_width=0.95) "
   ]
  },
  {
   "cell_type": "code",
   "execution_count": 44,
   "metadata": {},
   "outputs": [
    {
     "name": "stderr",
     "output_type": "stream",
     "text": [
      "INFO:fbprophet:Disabling daily seasonality. Run prophet with daily_seasonality=True to override this.\n"
     ]
    }
   ],
   "source": [
    "training_run = m.fit(frame)"
   ]
  },
  {
   "cell_type": "markdown",
   "metadata": {},
   "source": [
    "# 5. Evaluate Model"
   ]
  },
  {
   "cell_type": "code",
   "execution_count": 45,
   "metadata": {},
   "outputs": [],
   "source": [
    "future = m.make_future_dataframe(periods=400, freq='D')"
   ]
  },
  {
   "cell_type": "code",
   "execution_count": 46,
   "metadata": {},
   "outputs": [],
   "source": [
    "forecast = m.predict(future)"
   ]
  },
  {
   "cell_type": "code",
   "execution_count": 47,
   "metadata": {},
   "outputs": [
    {
     "data": {
      "text/html": [
       "<div>\n",
       "<style scoped>\n",
       "    .dataframe tbody tr th:only-of-type {\n",
       "        vertical-align: middle;\n",
       "    }\n",
       "\n",
       "    .dataframe tbody tr th {\n",
       "        vertical-align: top;\n",
       "    }\n",
       "\n",
       "    .dataframe thead th {\n",
       "        text-align: right;\n",
       "    }\n",
       "</style>\n",
       "<table border=\"1\" class=\"dataframe\">\n",
       "  <thead>\n",
       "    <tr style=\"text-align: right;\">\n",
       "      <th></th>\n",
       "      <th>ds</th>\n",
       "      <th>trend</th>\n",
       "      <th>yhat_lower</th>\n",
       "      <th>yhat_upper</th>\n",
       "      <th>trend_lower</th>\n",
       "      <th>trend_upper</th>\n",
       "      <th>additive_terms</th>\n",
       "      <th>additive_terms_lower</th>\n",
       "      <th>additive_terms_upper</th>\n",
       "      <th>weekly</th>\n",
       "      <th>weekly_lower</th>\n",
       "      <th>weekly_upper</th>\n",
       "      <th>yearly</th>\n",
       "      <th>yearly_lower</th>\n",
       "      <th>yearly_upper</th>\n",
       "      <th>multiplicative_terms</th>\n",
       "      <th>multiplicative_terms_lower</th>\n",
       "      <th>multiplicative_terms_upper</th>\n",
       "      <th>yhat</th>\n",
       "    </tr>\n",
       "  </thead>\n",
       "  <tbody>\n",
       "    <tr>\n",
       "      <th>0</th>\n",
       "      <td>2018-01-01</td>\n",
       "      <td>3510.158165</td>\n",
       "      <td>931.345687</td>\n",
       "      <td>3963.307882</td>\n",
       "      <td>3510.158165</td>\n",
       "      <td>3510.158165</td>\n",
       "      <td>-1111.274728</td>\n",
       "      <td>-1111.274728</td>\n",
       "      <td>-1111.274728</td>\n",
       "      <td>16.630785</td>\n",
       "      <td>16.630785</td>\n",
       "      <td>16.630785</td>\n",
       "      <td>-1127.905513</td>\n",
       "      <td>-1127.905513</td>\n",
       "      <td>-1127.905513</td>\n",
       "      <td>0.0</td>\n",
       "      <td>0.0</td>\n",
       "      <td>0.0</td>\n",
       "      <td>2398.883437</td>\n",
       "    </tr>\n",
       "    <tr>\n",
       "      <th>1</th>\n",
       "      <td>2018-01-02</td>\n",
       "      <td>3510.918895</td>\n",
       "      <td>839.921205</td>\n",
       "      <td>4054.365480</td>\n",
       "      <td>3510.918895</td>\n",
       "      <td>3510.918895</td>\n",
       "      <td>-1121.474840</td>\n",
       "      <td>-1121.474840</td>\n",
       "      <td>-1121.474840</td>\n",
       "      <td>-11.278673</td>\n",
       "      <td>-11.278673</td>\n",
       "      <td>-11.278673</td>\n",
       "      <td>-1110.196167</td>\n",
       "      <td>-1110.196167</td>\n",
       "      <td>-1110.196167</td>\n",
       "      <td>0.0</td>\n",
       "      <td>0.0</td>\n",
       "      <td>0.0</td>\n",
       "      <td>2389.444055</td>\n",
       "    </tr>\n",
       "    <tr>\n",
       "      <th>2</th>\n",
       "      <td>2018-01-03</td>\n",
       "      <td>3511.679625</td>\n",
       "      <td>851.592397</td>\n",
       "      <td>4084.451305</td>\n",
       "      <td>3511.679625</td>\n",
       "      <td>3511.679625</td>\n",
       "      <td>-1095.700053</td>\n",
       "      <td>-1095.700053</td>\n",
       "      <td>-1095.700053</td>\n",
       "      <td>-4.415302</td>\n",
       "      <td>-4.415302</td>\n",
       "      <td>-4.415302</td>\n",
       "      <td>-1091.284751</td>\n",
       "      <td>-1091.284751</td>\n",
       "      <td>-1091.284751</td>\n",
       "      <td>0.0</td>\n",
       "      <td>0.0</td>\n",
       "      <td>0.0</td>\n",
       "      <td>2415.979572</td>\n",
       "    </tr>\n",
       "    <tr>\n",
       "      <th>3</th>\n",
       "      <td>2018-01-04</td>\n",
       "      <td>3512.440355</td>\n",
       "      <td>869.090164</td>\n",
       "      <td>3989.532154</td>\n",
       "      <td>3512.440355</td>\n",
       "      <td>3512.440355</td>\n",
       "      <td>-1048.748598</td>\n",
       "      <td>-1048.748598</td>\n",
       "      <td>-1048.748598</td>\n",
       "      <td>22.499269</td>\n",
       "      <td>22.499269</td>\n",
       "      <td>22.499269</td>\n",
       "      <td>-1071.247867</td>\n",
       "      <td>-1071.247867</td>\n",
       "      <td>-1071.247867</td>\n",
       "      <td>0.0</td>\n",
       "      <td>0.0</td>\n",
       "      <td>0.0</td>\n",
       "      <td>2463.691757</td>\n",
       "    </tr>\n",
       "    <tr>\n",
       "      <th>4</th>\n",
       "      <td>2018-01-05</td>\n",
       "      <td>3513.201085</td>\n",
       "      <td>801.384960</td>\n",
       "      <td>3966.173621</td>\n",
       "      <td>3513.201085</td>\n",
       "      <td>3513.201085</td>\n",
       "      <td>-1084.784956</td>\n",
       "      <td>-1084.784956</td>\n",
       "      <td>-1084.784956</td>\n",
       "      <td>-34.569798</td>\n",
       "      <td>-34.569798</td>\n",
       "      <td>-34.569798</td>\n",
       "      <td>-1050.215158</td>\n",
       "      <td>-1050.215158</td>\n",
       "      <td>-1050.215158</td>\n",
       "      <td>0.0</td>\n",
       "      <td>0.0</td>\n",
       "      <td>0.0</td>\n",
       "      <td>2428.416129</td>\n",
       "    </tr>\n",
       "  </tbody>\n",
       "</table>\n",
       "</div>"
      ],
      "text/plain": [
       "          ds        trend  yhat_lower   yhat_upper  trend_lower  trend_upper  \\\n",
       "0 2018-01-01  3510.158165  931.345687  3963.307882  3510.158165  3510.158165   \n",
       "1 2018-01-02  3510.918895  839.921205  4054.365480  3510.918895  3510.918895   \n",
       "2 2018-01-03  3511.679625  851.592397  4084.451305  3511.679625  3511.679625   \n",
       "3 2018-01-04  3512.440355  869.090164  3989.532154  3512.440355  3512.440355   \n",
       "4 2018-01-05  3513.201085  801.384960  3966.173621  3513.201085  3513.201085   \n",
       "\n",
       "   additive_terms  additive_terms_lower  additive_terms_upper     weekly  \\\n",
       "0    -1111.274728          -1111.274728          -1111.274728  16.630785   \n",
       "1    -1121.474840          -1121.474840          -1121.474840 -11.278673   \n",
       "2    -1095.700053          -1095.700053          -1095.700053  -4.415302   \n",
       "3    -1048.748598          -1048.748598          -1048.748598  22.499269   \n",
       "4    -1084.784956          -1084.784956          -1084.784956 -34.569798   \n",
       "\n",
       "   weekly_lower  weekly_upper       yearly  yearly_lower  yearly_upper  \\\n",
       "0     16.630785     16.630785 -1127.905513  -1127.905513  -1127.905513   \n",
       "1    -11.278673    -11.278673 -1110.196167  -1110.196167  -1110.196167   \n",
       "2     -4.415302     -4.415302 -1091.284751  -1091.284751  -1091.284751   \n",
       "3     22.499269     22.499269 -1071.247867  -1071.247867  -1071.247867   \n",
       "4    -34.569798    -34.569798 -1050.215158  -1050.215158  -1050.215158   \n",
       "\n",
       "   multiplicative_terms  multiplicative_terms_lower  \\\n",
       "0                   0.0                         0.0   \n",
       "1                   0.0                         0.0   \n",
       "2                   0.0                         0.0   \n",
       "3                   0.0                         0.0   \n",
       "4                   0.0                         0.0   \n",
       "\n",
       "   multiplicative_terms_upper         yhat  \n",
       "0                         0.0  2398.883437  \n",
       "1                         0.0  2389.444055  \n",
       "2                         0.0  2415.979572  \n",
       "3                         0.0  2463.691757  \n",
       "4                         0.0  2428.416129  "
      ]
     },
     "execution_count": 47,
     "metadata": {},
     "output_type": "execute_result"
    }
   ],
   "source": [
    "forecast.head()"
   ]
  },
  {
   "cell_type": "code",
   "execution_count": 48,
   "metadata": {},
   "outputs": [
    {
     "data": {
      "image/png": "[encoded data removed]",
      "text/plain": [
       "<Figure size 720x432 with 1 Axes>"
      ]
     },
     "metadata": {},
     "output_type": "display_data"
    }
   ],
   "source": [
    "plot1 = m.plot(forecast)"
   ]
  },
  {
   "cell_type": "code",
   "execution_count": 49,
   "metadata": {},
   "outputs": [
    {
     "data": {
      "image/png": "[encoded data removed]",
      "text/plain": [
       "<Figure size 648x648 with 3 Axes>"
      ]
     },
     "metadata": {},
     "output_type": "display_data"
    }
   ],
   "source": [
    "plot2 = m.plot_components(forecast)"
   ]
  },
  {
   "cell_type": "markdown",
   "metadata": {},
   "source": [
    "# BONUS ROUND - Scaling Up"
   ]
  },
  {
   "cell_type": "code",
   "execution_count": 50,
   "metadata": {},
   "outputs": [],
   "source": [
    "lines = df['Store/Product'].unique()"
   ]
  },
  {
   "cell_type": "code",
   "execution_count": 51,
   "metadata": {},
   "outputs": [
    {
     "data": {
      "text/html": [
       "<div>\n",
       "<style scoped>\n",
       "    .dataframe tbody tr th:only-of-type {\n",
       "        vertical-align: middle;\n",
       "    }\n",
       "\n",
       "    .dataframe tbody tr th {\n",
       "        vertical-align: top;\n",
       "    }\n",
       "\n",
       "    .dataframe thead th {\n",
       "        text-align: right;\n",
       "    }\n",
       "</style>\n",
       "<table border=\"1\" class=\"dataframe\">\n",
       "  <thead>\n",
       "    <tr style=\"text-align: right;\">\n",
       "      <th></th>\n",
       "      <th>Date</th>\n",
       "      <th>Store/Product</th>\n",
       "      <th>Value</th>\n",
       "    </tr>\n",
       "  </thead>\n",
       "  <tbody>\n",
       "    <tr>\n",
       "      <th>2160</th>\n",
       "      <td>2018-01-01</td>\n",
       "      <td>SAN_FRANCISCO-TESLA_MODEL_S</td>\n",
       "      <td>2679.400000</td>\n",
       "    </tr>\n",
       "    <tr>\n",
       "      <th>2161</th>\n",
       "      <td>2018-01-02</td>\n",
       "      <td>SAN_FRANCISCO-TESLA_MODEL_S</td>\n",
       "      <td>2466.777900</td>\n",
       "    </tr>\n",
       "    <tr>\n",
       "      <th>2162</th>\n",
       "      <td>2018-01-03</td>\n",
       "      <td>SAN_FRANCISCO-TESLA_MODEL_S</td>\n",
       "      <td>2562.700000</td>\n",
       "    </tr>\n",
       "    <tr>\n",
       "      <th>2163</th>\n",
       "      <td>2018-01-04</td>\n",
       "      <td>SAN_FRANCISCO-TESLA_MODEL_S</td>\n",
       "      <td>2203.600000</td>\n",
       "    </tr>\n",
       "    <tr>\n",
       "      <th>2164</th>\n",
       "      <td>2018-01-05</td>\n",
       "      <td>SAN_FRANCISCO-TESLA_MODEL_S</td>\n",
       "      <td>2441.000000</td>\n",
       "    </tr>\n",
       "    <tr>\n",
       "      <th>...</th>\n",
       "      <td>...</td>\n",
       "      <td>...</td>\n",
       "      <td>...</td>\n",
       "    </tr>\n",
       "    <tr>\n",
       "      <th>3235</th>\n",
       "      <td>2020-12-12</td>\n",
       "      <td>SAN_FRANCISCO-TESLA_MODEL_S</td>\n",
       "      <td>2899.835050</td>\n",
       "    </tr>\n",
       "    <tr>\n",
       "      <th>3236</th>\n",
       "      <td>2020-12-13</td>\n",
       "      <td>SAN_FRANCISCO-TESLA_MODEL_S</td>\n",
       "      <td>2896.835050</td>\n",
       "    </tr>\n",
       "    <tr>\n",
       "      <th>3237</th>\n",
       "      <td>2020-12-14</td>\n",
       "      <td>SAN_FRANCISCO-TESLA_MODEL_S</td>\n",
       "      <td>3094.019060</td>\n",
       "    </tr>\n",
       "    <tr>\n",
       "      <th>3238</th>\n",
       "      <td>2020-12-15</td>\n",
       "      <td>SAN_FRANCISCO-TESLA_MODEL_S</td>\n",
       "      <td>2492.132196</td>\n",
       "    </tr>\n",
       "    <tr>\n",
       "      <th>3239</th>\n",
       "      <td>2020-12-16</td>\n",
       "      <td>SAN_FRANCISCO-TESLA_MODEL_S</td>\n",
       "      <td>2374.531596</td>\n",
       "    </tr>\n",
       "  </tbody>\n",
       "</table>\n",
       "<p>1080 rows × 3 columns</p>\n",
       "</div>"
      ],
      "text/plain": [
       "           Date                Store/Product        Value\n",
       "2160 2018-01-01  SAN_FRANCISCO-TESLA_MODEL_S  2679.400000\n",
       "2161 2018-01-02  SAN_FRANCISCO-TESLA_MODEL_S  2466.777900\n",
       "2162 2018-01-03  SAN_FRANCISCO-TESLA_MODEL_S  2562.700000\n",
       "2163 2018-01-04  SAN_FRANCISCO-TESLA_MODEL_S  2203.600000\n",
       "2164 2018-01-05  SAN_FRANCISCO-TESLA_MODEL_S  2441.000000\n",
       "...         ...                          ...          ...\n",
       "3235 2020-12-12  SAN_FRANCISCO-TESLA_MODEL_S  2899.835050\n",
       "3236 2020-12-13  SAN_FRANCISCO-TESLA_MODEL_S  2896.835050\n",
       "3237 2020-12-14  SAN_FRANCISCO-TESLA_MODEL_S  3094.019060\n",
       "3238 2020-12-15  SAN_FRANCISCO-TESLA_MODEL_S  2492.132196\n",
       "3239 2020-12-16  SAN_FRANCISCO-TESLA_MODEL_S  2374.531596\n",
       "\n",
       "[1080 rows x 3 columns]"
      ]
     },
     "execution_count": 51,
     "metadata": {},
     "output_type": "execute_result"
    }
   ],
   "source": [
    "df[df['Store/Product']=='SAN_FRANCISCO-TESLA_MODEL_S']"
   ]
  },
  {
   "cell_type": "code",
   "execution_count": 52,
   "metadata": {},
   "outputs": [
    {
     "name": "stdout",
     "output_type": "stream",
     "text": [
      "           Date              Store/Product        Value\n",
      "1075 2020-12-12  LOS_ANGELES-TESLA_MODEL_X  3167.594500\n",
      "1076 2020-12-13  LOS_ANGELES-TESLA_MODEL_X  3167.594500\n",
      "1077 2020-12-14  LOS_ANGELES-TESLA_MODEL_X  3383.354511\n",
      "1078 2020-12-15  LOS_ANGELES-TESLA_MODEL_X  2714.591329\n",
      "1079 2020-12-16  LOS_ANGELES-TESLA_MODEL_X  2585.035107\n",
      "           Date              Store/Product        Value\n",
      "2155 2020-12-12  LOS_ANGELES-TESLA_MODEL_S  3501.353950\n",
      "2156 2020-12-13  LOS_ANGELES-TESLA_MODEL_S  3505.353950\n",
      "2157 2020-12-14  LOS_ANGELES-TESLA_MODEL_S  3751.689962\n",
      "2158 2020-12-15  LOS_ANGELES-TESLA_MODEL_S  3008.050462\n",
      "2159 2020-12-16  LOS_ANGELES-TESLA_MODEL_S  2866.538618\n",
      "           Date                Store/Product        Value\n",
      "3235 2020-12-12  SAN_FRANCISCO-TESLA_MODEL_S  2899.835050\n",
      "3236 2020-12-13  SAN_FRANCISCO-TESLA_MODEL_S  2896.835050\n",
      "3237 2020-12-14  SAN_FRANCISCO-TESLA_MODEL_S  3094.019060\n",
      "3238 2020-12-15  SAN_FRANCISCO-TESLA_MODEL_S  2492.132196\n",
      "3239 2020-12-16  SAN_FRANCISCO-TESLA_MODEL_S  2374.531596\n"
     ]
    }
   ],
   "source": [
    "for stock_line in lines: \n",
    "    frame = df[df['Store/Product'] == stock_line].copy()\n",
    "    print(frame.tail())"
   ]
  },
  {
   "cell_type": "code",
   "execution_count": 53,
   "metadata": {},
   "outputs": [
    {
     "data": {
      "text/plain": [
       "array(['LOS_ANGELES-TESLA_MODEL_X', 'LOS_ANGELES-TESLA_MODEL_S',\n",
       "       'SAN_FRANCISCO-TESLA_MODEL_S'], dtype=object)"
      ]
     },
     "execution_count": 53,
     "metadata": {},
     "output_type": "execute_result"
    }
   ],
   "source": [
    "lines"
   ]
  },
  {
   "cell_type": "code",
   "execution_count": 54,
   "metadata": {},
   "outputs": [
    {
     "name": "stderr",
     "output_type": "stream",
     "text": [
      "INFO:fbprophet:Disabling daily seasonality. Run prophet with daily_seasonality=True to override this.\n",
      "INFO:fbprophet:Disabling daily seasonality. Run prophet with daily_seasonality=True to override this.\n",
      "INFO:fbprophet:Disabling daily seasonality. Run prophet with daily_seasonality=True to override this.\n"
     ]
    }
   ],
   "source": [
    "fit_models = {}\n",
    "for stock_line in lines: \n",
    "    frame = df[df['Store/Product'] == stock_line].copy()\n",
    "    frame.drop('Store/Product', axis=1, inplace=True)\n",
    "    frame.columns = ['ds', 'y']\n",
    "    \n",
    "    m = Prophet(interval_width=0.95)\n",
    "    model = m.fit(frame)\n",
    "    \n",
    "    fit_models[stock_line] = m "
   ]
  },
  {
   "cell_type": "code",
   "execution_count": 55,
   "metadata": {},
   "outputs": [
    {
     "data": {
      "text/plain": [
       "{'LOS_ANGELES-TESLA_MODEL_X': <fbprophet.forecaster.Prophet at 0x7fa2594cb990>,\n",
       " 'LOS_ANGELES-TESLA_MODEL_S': <fbprophet.forecaster.Prophet at 0x7fa23f32b8d0>,\n",
       " 'SAN_FRANCISCO-TESLA_MODEL_S': <fbprophet.forecaster.Prophet at 0x7fa25673ff90>}"
      ]
     },
     "execution_count": 55,
     "metadata": {},
     "output_type": "execute_result"
    }
   ],
   "source": [
    "fit_models"
   ]
  },
  {
   "cell_type": "code",
   "execution_count": 56,
   "metadata": {},
   "outputs": [],
   "source": [
    "forward = fit_models['LOS_ANGELES-TESLA_MODEL_S'].make_future_dataframe(200)\n",
    "forecast = fit_models['LOS_ANGELES-TESLA_MODEL_S'].predict(forward)"
   ]
  },
  {
   "cell_type": "code",
   "execution_count": 57,
   "metadata": {
    "scrolled": true
   },
   "outputs": [
    {
     "data": {
      "text/html": [
       "<div>\n",
       "<style scoped>\n",
       "    .dataframe tbody tr th:only-of-type {\n",
       "        vertical-align: middle;\n",
       "    }\n",
       "\n",
       "    .dataframe tbody tr th {\n",
       "        vertical-align: top;\n",
       "    }\n",
       "\n",
       "    .dataframe thead th {\n",
       "        text-align: right;\n",
       "    }\n",
       "</style>\n",
       "<table border=\"1\" class=\"dataframe\">\n",
       "  <thead>\n",
       "    <tr style=\"text-align: right;\">\n",
       "      <th></th>\n",
       "      <th>ds</th>\n",
       "      <th>trend</th>\n",
       "      <th>yhat_lower</th>\n",
       "      <th>yhat_upper</th>\n",
       "      <th>trend_lower</th>\n",
       "      <th>trend_upper</th>\n",
       "      <th>additive_terms</th>\n",
       "      <th>additive_terms_lower</th>\n",
       "      <th>additive_terms_upper</th>\n",
       "      <th>weekly</th>\n",
       "      <th>weekly_lower</th>\n",
       "      <th>weekly_upper</th>\n",
       "      <th>yearly</th>\n",
       "      <th>yearly_lower</th>\n",
       "      <th>yearly_upper</th>\n",
       "      <th>multiplicative_terms</th>\n",
       "      <th>multiplicative_terms_lower</th>\n",
       "      <th>multiplicative_terms_upper</th>\n",
       "      <th>yhat</th>\n",
       "    </tr>\n",
       "  </thead>\n",
       "  <tbody>\n",
       "    <tr>\n",
       "      <th>0</th>\n",
       "      <td>2018-01-01</td>\n",
       "      <td>3886.556538</td>\n",
       "      <td>903.901192</td>\n",
       "      <td>4431.005813</td>\n",
       "      <td>3886.556538</td>\n",
       "      <td>3886.556538</td>\n",
       "      <td>-1220.215651</td>\n",
       "      <td>-1220.215651</td>\n",
       "      <td>-1220.215651</td>\n",
       "      <td>18.340344</td>\n",
       "      <td>18.340344</td>\n",
       "      <td>18.340344</td>\n",
       "      <td>-1238.555994</td>\n",
       "      <td>-1238.555994</td>\n",
       "      <td>-1238.555994</td>\n",
       "      <td>0.0</td>\n",
       "      <td>0.0</td>\n",
       "      <td>0.0</td>\n",
       "      <td>2666.340888</td>\n",
       "    </tr>\n",
       "    <tr>\n",
       "      <th>1</th>\n",
       "      <td>2018-01-02</td>\n",
       "      <td>3887.379428</td>\n",
       "      <td>840.378473</td>\n",
       "      <td>4458.122942</td>\n",
       "      <td>3887.379428</td>\n",
       "      <td>3887.379428</td>\n",
       "      <td>-1231.407591</td>\n",
       "      <td>-1231.407591</td>\n",
       "      <td>-1231.407591</td>\n",
       "      <td>-12.202609</td>\n",
       "      <td>-12.202609</td>\n",
       "      <td>-12.202609</td>\n",
       "      <td>-1219.204982</td>\n",
       "      <td>-1219.204982</td>\n",
       "      <td>-1219.204982</td>\n",
       "      <td>0.0</td>\n",
       "      <td>0.0</td>\n",
       "      <td>0.0</td>\n",
       "      <td>2655.971837</td>\n",
       "    </tr>\n",
       "    <tr>\n",
       "      <th>2</th>\n",
       "      <td>2018-01-03</td>\n",
       "      <td>3888.202318</td>\n",
       "      <td>965.888873</td>\n",
       "      <td>4451.669289</td>\n",
       "      <td>3888.202318</td>\n",
       "      <td>3888.202318</td>\n",
       "      <td>-1203.251161</td>\n",
       "      <td>-1203.251161</td>\n",
       "      <td>-1203.251161</td>\n",
       "      <td>-4.697234</td>\n",
       "      <td>-4.697234</td>\n",
       "      <td>-4.697234</td>\n",
       "      <td>-1198.553927</td>\n",
       "      <td>-1198.553927</td>\n",
       "      <td>-1198.553927</td>\n",
       "      <td>0.0</td>\n",
       "      <td>0.0</td>\n",
       "      <td>0.0</td>\n",
       "      <td>2684.951157</td>\n",
       "    </tr>\n",
       "    <tr>\n",
       "      <th>3</th>\n",
       "      <td>2018-01-04</td>\n",
       "      <td>3889.025208</td>\n",
       "      <td>1108.733886</td>\n",
       "      <td>4424.191776</td>\n",
       "      <td>3889.025208</td>\n",
       "      <td>3889.025208</td>\n",
       "      <td>-1152.039226</td>\n",
       "      <td>-1152.039226</td>\n",
       "      <td>-1152.039226</td>\n",
       "      <td>24.645085</td>\n",
       "      <td>24.645085</td>\n",
       "      <td>24.645085</td>\n",
       "      <td>-1176.684311</td>\n",
       "      <td>-1176.684311</td>\n",
       "      <td>-1176.684311</td>\n",
       "      <td>0.0</td>\n",
       "      <td>0.0</td>\n",
       "      <td>0.0</td>\n",
       "      <td>2736.985982</td>\n",
       "    </tr>\n",
       "    <tr>\n",
       "      <th>4</th>\n",
       "      <td>2018-01-05</td>\n",
       "      <td>3889.848098</td>\n",
       "      <td>916.375882</td>\n",
       "      <td>4328.404074</td>\n",
       "      <td>3889.848098</td>\n",
       "      <td>3889.848098</td>\n",
       "      <td>-1192.074394</td>\n",
       "      <td>-1192.074394</td>\n",
       "      <td>-1192.074394</td>\n",
       "      <td>-38.338740</td>\n",
       "      <td>-38.338740</td>\n",
       "      <td>-38.338740</td>\n",
       "      <td>-1153.735654</td>\n",
       "      <td>-1153.735654</td>\n",
       "      <td>-1153.735654</td>\n",
       "      <td>0.0</td>\n",
       "      <td>0.0</td>\n",
       "      <td>0.0</td>\n",
       "      <td>2697.773704</td>\n",
       "    </tr>\n",
       "    <tr>\n",
       "      <th>...</th>\n",
       "      <td>...</td>\n",
       "      <td>...</td>\n",
       "      <td>...</td>\n",
       "      <td>...</td>\n",
       "      <td>...</td>\n",
       "      <td>...</td>\n",
       "      <td>...</td>\n",
       "      <td>...</td>\n",
       "      <td>...</td>\n",
       "      <td>...</td>\n",
       "      <td>...</td>\n",
       "      <td>...</td>\n",
       "      <td>...</td>\n",
       "      <td>...</td>\n",
       "      <td>...</td>\n",
       "      <td>...</td>\n",
       "      <td>...</td>\n",
       "      <td>...</td>\n",
       "      <td>...</td>\n",
       "    </tr>\n",
       "    <tr>\n",
       "      <th>1275</th>\n",
       "      <td>2021-06-30</td>\n",
       "      <td>5319.847095</td>\n",
       "      <td>4798.747766</td>\n",
       "      <td>8381.809125</td>\n",
       "      <td>5310.274748</td>\n",
       "      <td>5330.307597</td>\n",
       "      <td>1273.387104</td>\n",
       "      <td>1273.387104</td>\n",
       "      <td>1273.387104</td>\n",
       "      <td>-4.697234</td>\n",
       "      <td>-4.697234</td>\n",
       "      <td>-4.697234</td>\n",
       "      <td>1278.084338</td>\n",
       "      <td>1278.084338</td>\n",
       "      <td>1278.084338</td>\n",
       "      <td>0.0</td>\n",
       "      <td>0.0</td>\n",
       "      <td>0.0</td>\n",
       "      <td>6593.234199</td>\n",
       "    </tr>\n",
       "    <tr>\n",
       "      <th>1276</th>\n",
       "      <td>2021-07-01</td>\n",
       "      <td>5321.034963</td>\n",
       "      <td>4846.416943</td>\n",
       "      <td>8412.035972</td>\n",
       "      <td>5311.432760</td>\n",
       "      <td>5331.561819</td>\n",
       "      <td>1295.228328</td>\n",
       "      <td>1295.228328</td>\n",
       "      <td>1295.228328</td>\n",
       "      <td>24.645085</td>\n",
       "      <td>24.645085</td>\n",
       "      <td>24.645085</td>\n",
       "      <td>1270.583243</td>\n",
       "      <td>1270.583243</td>\n",
       "      <td>1270.583243</td>\n",
       "      <td>0.0</td>\n",
       "      <td>0.0</td>\n",
       "      <td>0.0</td>\n",
       "      <td>6616.263291</td>\n",
       "    </tr>\n",
       "    <tr>\n",
       "      <th>1277</th>\n",
       "      <td>2021-07-02</td>\n",
       "      <td>5322.222831</td>\n",
       "      <td>4775.104406</td>\n",
       "      <td>8398.766126</td>\n",
       "      <td>5312.588828</td>\n",
       "      <td>5332.816099</td>\n",
       "      <td>1226.559073</td>\n",
       "      <td>1226.559073</td>\n",
       "      <td>1226.559073</td>\n",
       "      <td>-38.338740</td>\n",
       "      <td>-38.338740</td>\n",
       "      <td>-38.338740</td>\n",
       "      <td>1264.897813</td>\n",
       "      <td>1264.897813</td>\n",
       "      <td>1264.897813</td>\n",
       "      <td>0.0</td>\n",
       "      <td>0.0</td>\n",
       "      <td>0.0</td>\n",
       "      <td>6548.781904</td>\n",
       "    </tr>\n",
       "    <tr>\n",
       "      <th>1278</th>\n",
       "      <td>2021-07-03</td>\n",
       "      <td>5323.410699</td>\n",
       "      <td>4909.032215</td>\n",
       "      <td>8330.802133</td>\n",
       "      <td>5313.741755</td>\n",
       "      <td>5334.074331</td>\n",
       "      <td>1246.200433</td>\n",
       "      <td>1246.200433</td>\n",
       "      <td>1246.200433</td>\n",
       "      <td>-15.074302</td>\n",
       "      <td>-15.074302</td>\n",
       "      <td>-15.074302</td>\n",
       "      <td>1261.274735</td>\n",
       "      <td>1261.274735</td>\n",
       "      <td>1261.274735</td>\n",
       "      <td>0.0</td>\n",
       "      <td>0.0</td>\n",
       "      <td>0.0</td>\n",
       "      <td>6569.611132</td>\n",
       "    </tr>\n",
       "    <tr>\n",
       "      <th>1279</th>\n",
       "      <td>2021-07-04</td>\n",
       "      <td>5324.598567</td>\n",
       "      <td>4853.742724</td>\n",
       "      <td>8353.031078</td>\n",
       "      <td>5314.895227</td>\n",
       "      <td>5335.332563</td>\n",
       "      <td>1287.212801</td>\n",
       "      <td>1287.212801</td>\n",
       "      <td>1287.212801</td>\n",
       "      <td>27.327457</td>\n",
       "      <td>27.327457</td>\n",
       "      <td>27.327457</td>\n",
       "      <td>1259.885344</td>\n",
       "      <td>1259.885344</td>\n",
       "      <td>1259.885344</td>\n",
       "      <td>0.0</td>\n",
       "      <td>0.0</td>\n",
       "      <td>0.0</td>\n",
       "      <td>6611.811367</td>\n",
       "    </tr>\n",
       "  </tbody>\n",
       "</table>\n",
       "<p>1280 rows × 19 columns</p>\n",
       "</div>"
      ],
      "text/plain": [
       "             ds        trend   yhat_lower   yhat_upper  trend_lower  \\\n",
       "0    2018-01-01  3886.556538   903.901192  4431.005813  3886.556538   \n",
       "1    2018-01-02  3887.379428   840.378473  4458.122942  3887.379428   \n",
       "2    2018-01-03  3888.202318   965.888873  4451.669289  3888.202318   \n",
       "3    2018-01-04  3889.025208  1108.733886  4424.191776  3889.025208   \n",
       "4    2018-01-05  3889.848098   916.375882  4328.404074  3889.848098   \n",
       "...         ...          ...          ...          ...          ...   \n",
       "1275 2021-06-30  5319.847095  4798.747766  8381.809125  5310.274748   \n",
       "1276 2021-07-01  5321.034963  4846.416943  8412.035972  5311.432760   \n",
       "1277 2021-07-02  5322.222831  4775.104406  8398.766126  5312.588828   \n",
       "1278 2021-07-03  5323.410699  4909.032215  8330.802133  5313.741755   \n",
       "1279 2021-07-04  5324.598567  4853.742724  8353.031078  5314.895227   \n",
       "\n",
       "      trend_upper  additive_terms  additive_terms_lower  additive_terms_upper  \\\n",
       "0     3886.556538    -1220.215651          -1220.215651          -1220.215651   \n",
       "1     3887.379428    -1231.407591          -1231.407591          -1231.407591   \n",
       "2     3888.202318    -1203.251161          -1203.251161          -1203.251161   \n",
       "3     3889.025208    -1152.039226          -1152.039226          -1152.039226   \n",
       "4     3889.848098    -1192.074394          -1192.074394          -1192.074394   \n",
       "...           ...             ...                   ...                   ...   \n",
       "1275  5330.307597     1273.387104           1273.387104           1273.387104   \n",
       "1276  5331.561819     1295.228328           1295.228328           1295.228328   \n",
       "1277  5332.816099     1226.559073           1226.559073           1226.559073   \n",
       "1278  5334.074331     1246.200433           1246.200433           1246.200433   \n",
       "1279  5335.332563     1287.212801           1287.212801           1287.212801   \n",
       "\n",
       "         weekly  weekly_lower  weekly_upper       yearly  yearly_lower  \\\n",
       "0     18.340344     18.340344     18.340344 -1238.555994  -1238.555994   \n",
       "1    -12.202609    -12.202609    -12.202609 -1219.204982  -1219.204982   \n",
       "2     -4.697234     -4.697234     -4.697234 -1198.553927  -1198.553927   \n",
       "3     24.645085     24.645085     24.645085 -1176.684311  -1176.684311   \n",
       "4    -38.338740    -38.338740    -38.338740 -1153.735654  -1153.735654   \n",
       "...         ...           ...           ...          ...           ...   \n",
       "1275  -4.697234     -4.697234     -4.697234  1278.084338   1278.084338   \n",
       "1276  24.645085     24.645085     24.645085  1270.583243   1270.583243   \n",
       "1277 -38.338740    -38.338740    -38.338740  1264.897813   1264.897813   \n",
       "1278 -15.074302    -15.074302    -15.074302  1261.274735   1261.274735   \n",
       "1279  27.327457     27.327457     27.327457  1259.885344   1259.885344   \n",
       "\n",
       "      yearly_upper  multiplicative_terms  multiplicative_terms_lower  \\\n",
       "0     -1238.555994                   0.0                         0.0   \n",
       "1     -1219.204982                   0.0                         0.0   \n",
       "2     -1198.553927                   0.0                         0.0   \n",
       "3     -1176.684311                   0.0                         0.0   \n",
       "4     -1153.735654                   0.0                         0.0   \n",
       "...            ...                   ...                         ...   \n",
       "1275   1278.084338                   0.0                         0.0   \n",
       "1276   1270.583243                   0.0                         0.0   \n",
       "1277   1264.897813                   0.0                         0.0   \n",
       "1278   1261.274735                   0.0                         0.0   \n",
       "1279   1259.885344                   0.0                         0.0   \n",
       "\n",
       "      multiplicative_terms_upper         yhat  \n",
       "0                            0.0  2666.340888  \n",
       "1                            0.0  2655.971837  \n",
       "2                            0.0  2684.951157  \n",
       "3                            0.0  2736.985982  \n",
       "4                            0.0  2697.773704  \n",
       "...                          ...          ...  \n",
       "1275                         0.0  6593.234199  \n",
       "1276                         0.0  6616.263291  \n",
       "1277                         0.0  6548.781904  \n",
       "1278                         0.0  6569.611132  \n",
       "1279                         0.0  6611.811367  \n",
       "\n",
       "[1280 rows x 19 columns]"
      ]
     },
     "execution_count": 57,
     "metadata": {},
     "output_type": "execute_result"
    }
   ],
   "source": [
    "forecast"
   ]
  }
 ],
 "metadata": {
  "kernelspec": {
   "display_name": "Python 3",
   "language": "python",
   "name": "python3"
  },
  "language_info": {
   "codemirror_mode": {
    "name": "ipython",
    "version": 3
   },
   "file_extension": ".py",
   "mimetype": "text/x-python",
   "name": "python",
   "nbconvert_exporter": "python",
   "pygments_lexer": "ipython3",
   "version": "3.7.4"
  }
 },
 "nbformat": 4,
 "nbformat_minor": 2
}
