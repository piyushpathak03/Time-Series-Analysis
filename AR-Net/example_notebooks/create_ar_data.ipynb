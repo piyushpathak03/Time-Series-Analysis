{
 "cells": [
  {
   "cell_type": "code",
   "execution_count": 1,
   "metadata": {},
   "outputs": [],
   "source": [
    "import numpy as np\n",
    "from statsmodels.tsa.arima_process import ArmaProcess"
   ]
  },
  {
   "cell_type": "code",
   "execution_count": 2,
   "metadata": {},
   "outputs": [],
   "source": [
    "from arnet.create_ar_data import generate_armaprocess_data\n",
    "from arnet.create_ar_data import save_to_file, load_from_file"
   ]
  },
  {
   "cell_type": "code",
   "execution_count": 3,
   "metadata": {},
   "outputs": [],
   "source": [
    "#### Notebook settings ####\n",
    "random_ar_params = False\n",
    "save = True\n",
    "save_path = '../ar_data'"
   ]
  },
  {
   "cell_type": "code",
   "execution_count": 4,
   "metadata": {},
   "outputs": [],
   "source": [
    "#### Data settings ####\n",
    "# option 1: Randomly generated AR parameters\n",
    "data_config_random = {\n",
    "    \"samples\": 10000,\n",
    "    \"noise_std\": 0.1,\n",
    "    \"ar_order\": 3,\n",
    "    \"ma_order\": 0,\n",
    "    \"params\": None,  # for randomly generated AR params\n",
    "}\n",
    "\n",
    "# option 2: Manually define AR parameters\n",
    "data_config_manual = {\n",
    "    \"samples\": 10000,\n",
    "    \"noise_std\": 0.1,\n",
    "    \"params\": ([0.2, 0.3, -0.5], []), \n",
    "#     \"params\": ([0.2, 0, 0.3, 0, 0, 0, 0, 0, 0, -0.5, 0, 0, 0, 0, 0, 0, 0, 0, 0, 0], []), \n",
    "}\n",
    "data_config_manual[\"ar_order\"] = int(sum(np.array(data_config_manual[\"params\"][0]) != 0.0))\n",
    "data_config_manual[\"ma_order\"] = int(sum(np.array(data_config_manual[\"params\"][1]) != 0.0))"
   ]
  },
  {
   "cell_type": "code",
   "execution_count": 5,
   "metadata": {},
   "outputs": [
    {
     "name": "stdout",
     "output_type": "stream",
     "text": [
      "{'samples': 10000, 'noise_std': 0.1, 'params': ([0.2, 0.3, -0.5], []), 'ar_order': 3, 'ma_order': 0}\n"
     ]
    }
   ],
   "source": [
    "## Select config\n",
    "data_config = data_config_random if random_ar_params else data_config_manual\n",
    "print(data_config)"
   ]
  },
  {
   "cell_type": "code",
   "execution_count": 6,
   "metadata": {},
   "outputs": [],
   "source": [
    "## Generate data\n",
    "series, data_config[\"ar_params\"], data_config[\"ma_params\"] = generate_armaprocess_data(**data_config)\n",
    "del data_config[\"params\"]"
   ]
  },
  {
   "cell_type": "code",
   "execution_count": 7,
   "metadata": {},
   "outputs": [
    {
     "name": "stdout",
     "output_type": "stream",
     "text": [
      "loaded from saved files:\n",
      "{'samples': 10000, 'noise_std': 0.1, 'ar_order': 3, 'ma_order': 0, 'ar_params': [0.2, 0.3, -0.5], 'ma_params': []}\n",
      "          0\n",
      "0  0.114610\n",
      "1  0.027092\n",
      "2 -0.015263\n",
      "3 -0.125719\n",
      "4 -0.279195\n"
     ]
    }
   ],
   "source": [
    "if save:\n",
    "    data_name = save_to_file(save_path, series, data_config)\n",
    "    \n",
    "    # just to test:\n",
    "    df, data_config2 = load_from_file(save_path, data_name, load_config=True)\n",
    "    print(\"loaded from saved files:\")\n",
    "    print(data_config2)\n",
    "    print(df.head())"
   ]
  },
  {
   "cell_type": "code",
   "execution_count": null,
   "metadata": {},
   "outputs": [],
   "source": []
  }
 ],
 "metadata": {
  "kernelspec": {
   "display_name": "Python 3",
   "language": "python",
   "name": "python3"
  },
  "language_info": {
   "codemirror_mode": {
    "name": "ipython",
    "version": 3
   },
   "file_extension": ".py",
   "mimetype": "text/x-python",
   "name": "python",
   "nbconvert_exporter": "python",
   "pygments_lexer": "ipython3",
   "version": "3.8.5"
  }
 },
 "nbformat": 4,
 "nbformat_minor": 4
}
