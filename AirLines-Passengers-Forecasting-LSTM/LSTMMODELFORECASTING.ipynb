{
 "cells": [
  {
   "cell_type": "markdown",
   "metadata": {},
   "source": [
    "### Airlines Passenger Forecasting using Stacked LSTM"
   ]
  },
  {
   "cell_type": "markdown",
   "metadata": {},
   "source": [
    "This is a problem where, given a year and a month, the task is to predict the number of international airline passengers in units of 1,000. The data ranges from January 1949 to December 1960, or 12 years, with 144 observations."
   ]
  },
  {
   "cell_type": "code",
   "execution_count": 7,
   "metadata": {},
   "outputs": [],
   "source": [
    "#kaggle dataset\n",
    "#https://www.kaggle.com/rakannimer/air-passengers?select=AirPassengers.csv"
   ]
  },
  {
   "cell_type": "code",
   "execution_count": 89,
   "metadata": {},
   "outputs": [],
   "source": [
    "import pandas as pd"
   ]
  },
  {
   "cell_type": "code",
   "execution_count": 125,
   "metadata": {},
   "outputs": [],
   "source": [
    "df=pd.read_csv('AirPassengers.csv')"
   ]
  },
  {
   "cell_type": "code",
   "execution_count": 126,
   "metadata": {},
   "outputs": [
    {
     "data": {
      "text/html": [
       "<div>\n",
       "<style scoped>\n",
       "    .dataframe tbody tr th:only-of-type {\n",
       "        vertical-align: middle;\n",
       "    }\n",
       "\n",
       "    .dataframe tbody tr th {\n",
       "        vertical-align: top;\n",
       "    }\n",
       "\n",
       "    .dataframe thead th {\n",
       "        text-align: right;\n",
       "    }\n",
       "</style>\n",
       "<table border=\"1\" class=\"dataframe\">\n",
       "  <thead>\n",
       "    <tr style=\"text-align: right;\">\n",
       "      <th></th>\n",
       "      <th>Month</th>\n",
       "      <th>#Passengers</th>\n",
       "    </tr>\n",
       "  </thead>\n",
       "  <tbody>\n",
       "    <tr>\n",
       "      <th>0</th>\n",
       "      <td>1949-01</td>\n",
       "      <td>112</td>\n",
       "    </tr>\n",
       "    <tr>\n",
       "      <th>1</th>\n",
       "      <td>1949-02</td>\n",
       "      <td>118</td>\n",
       "    </tr>\n",
       "    <tr>\n",
       "      <th>2</th>\n",
       "      <td>1949-03</td>\n",
       "      <td>132</td>\n",
       "    </tr>\n",
       "    <tr>\n",
       "      <th>3</th>\n",
       "      <td>1949-04</td>\n",
       "      <td>129</td>\n",
       "    </tr>\n",
       "    <tr>\n",
       "      <th>4</th>\n",
       "      <td>1949-05</td>\n",
       "      <td>121</td>\n",
       "    </tr>\n",
       "  </tbody>\n",
       "</table>\n",
       "</div>"
      ],
      "text/plain": [
       "     Month  #Passengers\n",
       "0  1949-01          112\n",
       "1  1949-02          118\n",
       "2  1949-03          132\n",
       "3  1949-04          129\n",
       "4  1949-05          121"
      ]
     },
     "execution_count": 126,
     "metadata": {},
     "output_type": "execute_result"
    }
   ],
   "source": [
    "df.head()"
   ]
  },
  {
   "cell_type": "code",
   "execution_count": 127,
   "metadata": {},
   "outputs": [
    {
     "data": {
      "text/html": [
       "<div>\n",
       "<style scoped>\n",
       "    .dataframe tbody tr th:only-of-type {\n",
       "        vertical-align: middle;\n",
       "    }\n",
       "\n",
       "    .dataframe tbody tr th {\n",
       "        vertical-align: top;\n",
       "    }\n",
       "\n",
       "    .dataframe thead th {\n",
       "        text-align: right;\n",
       "    }\n",
       "</style>\n",
       "<table border=\"1\" class=\"dataframe\">\n",
       "  <thead>\n",
       "    <tr style=\"text-align: right;\">\n",
       "      <th></th>\n",
       "      <th>Month</th>\n",
       "      <th>#Passengers</th>\n",
       "    </tr>\n",
       "  </thead>\n",
       "  <tbody>\n",
       "    <tr>\n",
       "      <th>139</th>\n",
       "      <td>1960-08</td>\n",
       "      <td>606</td>\n",
       "    </tr>\n",
       "    <tr>\n",
       "      <th>140</th>\n",
       "      <td>1960-09</td>\n",
       "      <td>508</td>\n",
       "    </tr>\n",
       "    <tr>\n",
       "      <th>141</th>\n",
       "      <td>1960-10</td>\n",
       "      <td>461</td>\n",
       "    </tr>\n",
       "    <tr>\n",
       "      <th>142</th>\n",
       "      <td>1960-11</td>\n",
       "      <td>390</td>\n",
       "    </tr>\n",
       "    <tr>\n",
       "      <th>143</th>\n",
       "      <td>1960-12</td>\n",
       "      <td>432</td>\n",
       "    </tr>\n",
       "  </tbody>\n",
       "</table>\n",
       "</div>"
      ],
      "text/plain": [
       "       Month  #Passengers\n",
       "139  1960-08          606\n",
       "140  1960-09          508\n",
       "141  1960-10          461\n",
       "142  1960-11          390\n",
       "143  1960-12          432"
      ]
     },
     "execution_count": 127,
     "metadata": {},
     "output_type": "execute_result"
    }
   ],
   "source": [
    "df.tail()"
   ]
  },
  {
   "cell_type": "code",
   "execution_count": 128,
   "metadata": {},
   "outputs": [],
   "source": [
    "import matplotlib.pyplot as plt"
   ]
  },
  {
   "cell_type": "code",
   "execution_count": 129,
   "metadata": {},
   "outputs": [
    {
     "data": {
      "text/plain": [
       "[<matplotlib.lines.Line2D at 0x22379cd3fc8>]"
      ]
     },
     "execution_count": 129,
     "metadata": {},
     "output_type": "execute_result"
    },
    {
     "data": {
      "image/png": "[encoded data removed]",
      "text/plain": [
       "<Figure size 432x288 with 1 Axes>"
      ]
     },
     "metadata": {
      "needs_background": "light"
     },
     "output_type": "display_data"
    }
   ],
   "source": [
    "plt.plot(df.iloc[:,1])"
   ]
  },
  {
   "cell_type": "markdown",
   "metadata": {},
   "source": [
    "### Scaling\n",
    "LSTMs are sensitive to the scale of the input data, specifically when the sigmoid (default) or tanh activation functions are used. It can be a good practice to rescale the data to the range of 0-to-1, also called normalizing. We can easily normalize the dataset using the MinMaxScaler preprocessing class from the scikit-learn library."
   ]
  },
  {
   "cell_type": "code",
   "execution_count": 130,
   "metadata": {},
   "outputs": [],
   "source": [
    "from sklearn.preprocessing import MinMaxScaler"
   ]
  },
  {
   "cell_type": "code",
   "execution_count": 131,
   "metadata": {},
   "outputs": [
    {
     "data": {
      "text/plain": [
       "0      112\n",
       "1      118\n",
       "2      132\n",
       "3      129\n",
       "4      121\n",
       "      ... \n",
       "139    606\n",
       "140    508\n",
       "141    461\n",
       "142    390\n",
       "143    432\n",
       "Name: #Passengers, Length: 144, dtype: int64"
      ]
     },
     "execution_count": 131,
     "metadata": {},
     "output_type": "execute_result"
    }
   ],
   "source": [
    "df.iloc[:,1]"
   ]
  },
  {
   "cell_type": "code",
   "execution_count": 132,
   "metadata": {},
   "outputs": [],
   "source": [
    "scaler=MinMaxScaler(feature_range=(0,1))\n",
    "df=scaler.fit_transform(df.iloc[:,1:])"
   ]
  },
  {
   "cell_type": "code",
   "execution_count": 133,
   "metadata": {},
   "outputs": [
    {
     "data": {
      "text/plain": [
       "(144, 1)"
      ]
     },
     "execution_count": 133,
     "metadata": {},
     "output_type": "execute_result"
    }
   ],
   "source": [
    "df.shape"
   ]
  },
  {
   "cell_type": "code",
   "execution_count": 134,
   "metadata": {},
   "outputs": [
    {
     "data": {
      "text/plain": [
       "array([[0.01544402],\n",
       "       [0.02702703],\n",
       "       [0.05405405],\n",
       "       [0.04826255],\n",
       "       [0.03281853],\n",
       "       [0.05984556],\n",
       "       [0.08494208],\n",
       "       [0.08494208],\n",
       "       [0.06177606],\n",
       "       [0.02895753],\n",
       "       [0.        ],\n",
       "       [0.02702703],\n",
       "       [0.02123552],\n",
       "       [0.04247104],\n",
       "       [0.07142857],\n",
       "       [0.05984556],\n",
       "       [0.04054054],\n",
       "       [0.08687259],\n",
       "       [0.12741313],\n",
       "       [0.12741313],\n",
       "       [0.1042471 ],\n",
       "       [0.05598456],\n",
       "       [0.01930502],\n",
       "       [0.06949807],\n",
       "       [0.07915058],\n",
       "       [0.08880309],\n",
       "       [0.14285714],\n",
       "       [0.11389961],\n",
       "       [0.13127413],\n",
       "       [0.14285714],\n",
       "       [0.18339768],\n",
       "       [0.18339768],\n",
       "       [0.15444015],\n",
       "       [0.11196911],\n",
       "       [0.08108108],\n",
       "       [0.11969112],\n",
       "       [0.12934363],\n",
       "       [0.14671815],\n",
       "       [0.17181467],\n",
       "       [0.14864865],\n",
       "       [0.15250965],\n",
       "       [0.22007722],\n",
       "       [0.24324324],\n",
       "       [0.26640927],\n",
       "       [0.2027027 ],\n",
       "       [0.16795367],\n",
       "       [0.13127413],\n",
       "       [0.17374517],\n",
       "       [0.17760618],\n",
       "       [0.17760618],\n",
       "       [0.25482625],\n",
       "       [0.25289575],\n",
       "       [0.24131274],\n",
       "       [0.26833977],\n",
       "       [0.30888031],\n",
       "       [0.32432432],\n",
       "       [0.25675676],\n",
       "       [0.20656371],\n",
       "       [0.14671815],\n",
       "       [0.18725869],\n",
       "       [0.19305019],\n",
       "       [0.16216216],\n",
       "       [0.25289575],\n",
       "       [0.23745174],\n",
       "       [0.25096525],\n",
       "       [0.30888031],\n",
       "       [0.38223938],\n",
       "       [0.36486486],\n",
       "       [0.2992278 ],\n",
       "       [0.24131274],\n",
       "       [0.19111969],\n",
       "       [0.24131274],\n",
       "       [0.26640927],\n",
       "       [0.24903475],\n",
       "       [0.31467181],\n",
       "       [0.31853282],\n",
       "       [0.32046332],\n",
       "       [0.40733591],\n",
       "       [0.5019305 ],\n",
       "       [0.46911197],\n",
       "       [0.4015444 ],\n",
       "       [0.32818533],\n",
       "       [0.25675676],\n",
       "       [0.33590734],\n",
       "       [0.34749035],\n",
       "       [0.33397683],\n",
       "       [0.41119691],\n",
       "       [0.4034749 ],\n",
       "       [0.41312741],\n",
       "       [0.52123552],\n",
       "       [0.5965251 ],\n",
       "       [0.58108108],\n",
       "       [0.48455598],\n",
       "       [0.38996139],\n",
       "       [0.32239382],\n",
       "       [0.38996139],\n",
       "       [0.40733591],\n",
       "       [0.38030888],\n",
       "       [0.48648649],\n",
       "       [0.47104247],\n",
       "       [0.48455598],\n",
       "       [0.61389961],\n",
       "       [0.6969112 ],\n",
       "       [0.7007722 ],\n",
       "       [0.57915058],\n",
       "       [0.46911197],\n",
       "       [0.38803089],\n",
       "       [0.44787645],\n",
       "       [0.45559846],\n",
       "       [0.41312741],\n",
       "       [0.4980695 ],\n",
       "       [0.47104247],\n",
       "       [0.5       ],\n",
       "       [0.63899614],\n",
       "       [0.74710425],\n",
       "       [0.77413127],\n",
       "       [0.57915058],\n",
       "       [0.49227799],\n",
       "       [0.3976834 ],\n",
       "       [0.44980695],\n",
       "       [0.49420849],\n",
       "       [0.45945946],\n",
       "       [0.58301158],\n",
       "       [0.56370656],\n",
       "       [0.61003861],\n",
       "       [0.71042471],\n",
       "       [0.85714286],\n",
       "       [0.87837838],\n",
       "       [0.69305019],\n",
       "       [0.58494208],\n",
       "       [0.4980695 ],\n",
       "       [0.58108108],\n",
       "       [0.6042471 ],\n",
       "       [0.55405405],\n",
       "       [0.60810811],\n",
       "       [0.68918919],\n",
       "       [0.71042471],\n",
       "       [0.83204633],\n",
       "       [1.        ],\n",
       "       [0.96911197],\n",
       "       [0.77992278],\n",
       "       [0.68918919],\n",
       "       [0.55212355],\n",
       "       [0.63320463]])"
      ]
     },
     "execution_count": 134,
     "metadata": {},
     "output_type": "execute_result"
    }
   ],
   "source": [
    "df"
   ]
  },
  {
   "cell_type": "code",
   "execution_count": 99,
   "metadata": {},
   "outputs": [],
   "source": [
    "##splitting dataset into train and test split\n",
    "training_size=int(len(df)*0.65)"
   ]
  },
  {
   "cell_type": "code",
   "execution_count": 100,
   "metadata": {},
   "outputs": [
    {
     "data": {
      "text/plain": [
       "93"
      ]
     },
     "execution_count": 100,
     "metadata": {},
     "output_type": "execute_result"
    }
   ],
   "source": [
    "training_size"
   ]
  },
  {
   "cell_type": "code",
   "execution_count": 101,
   "metadata": {},
   "outputs": [],
   "source": [
    "test_size=len(df)-training_size"
   ]
  },
  {
   "cell_type": "code",
   "execution_count": 102,
   "metadata": {},
   "outputs": [
    {
     "data": {
      "text/plain": [
       "51"
      ]
     },
     "execution_count": 102,
     "metadata": {},
     "output_type": "execute_result"
    }
   ],
   "source": [
    "test_size"
   ]
  },
  {
   "cell_type": "code",
   "execution_count": 135,
   "metadata": {},
   "outputs": [],
   "source": [
    "train_data,test_data=df[0:training_size,:],df[training_size:len(df),:1]"
   ]
  },
  {
   "cell_type": "code",
   "execution_count": 137,
   "metadata": {},
   "outputs": [
    {
     "data": {
      "text/plain": [
       "array([[0.38996139],\n",
       "       [0.32239382],\n",
       "       [0.38996139],\n",
       "       [0.40733591],\n",
       "       [0.38030888],\n",
       "       [0.48648649],\n",
       "       [0.47104247],\n",
       "       [0.48455598],\n",
       "       [0.61389961],\n",
       "       [0.6969112 ],\n",
       "       [0.7007722 ],\n",
       "       [0.57915058],\n",
       "       [0.46911197],\n",
       "       [0.38803089],\n",
       "       [0.44787645],\n",
       "       [0.45559846],\n",
       "       [0.41312741],\n",
       "       [0.4980695 ],\n",
       "       [0.47104247],\n",
       "       [0.5       ],\n",
       "       [0.63899614],\n",
       "       [0.74710425],\n",
       "       [0.77413127],\n",
       "       [0.57915058],\n",
       "       [0.49227799],\n",
       "       [0.3976834 ],\n",
       "       [0.44980695],\n",
       "       [0.49420849],\n",
       "       [0.45945946],\n",
       "       [0.58301158],\n",
       "       [0.56370656],\n",
       "       [0.61003861],\n",
       "       [0.71042471],\n",
       "       [0.85714286],\n",
       "       [0.87837838],\n",
       "       [0.69305019],\n",
       "       [0.58494208],\n",
       "       [0.4980695 ],\n",
       "       [0.58108108],\n",
       "       [0.6042471 ],\n",
       "       [0.55405405],\n",
       "       [0.60810811],\n",
       "       [0.68918919],\n",
       "       [0.71042471],\n",
       "       [0.83204633],\n",
       "       [1.        ],\n",
       "       [0.96911197],\n",
       "       [0.77992278],\n",
       "       [0.68918919],\n",
       "       [0.55212355],\n",
       "       [0.63320463]])"
      ]
     },
     "execution_count": 137,
     "metadata": {},
     "output_type": "execute_result"
    }
   ],
   "source": [
    "test_data"
   ]
  },
  {
   "cell_type": "code",
   "execution_count": 105,
   "metadata": {},
   "outputs": [],
   "source": [
    "import numpy\n",
    "# convert an array of values into a dataset matrix\n",
    "def create_dataset(dataset, time_step=1):\n",
    "\tdataX, dataY = [], []\n",
    "\tfor i in range(len(dataset)-time_step-1):\n",
    "\t\ta = dataset[i:(i+time_step), 0]   ###i=0, 0,1,2,3\n",
    "\t\tdataX.append(a)\n",
    "\t\tdataY.append(dataset[i + time_step, 0])\n",
    "\treturn numpy.array(dataX), numpy.array(dataY)"
   ]
  },
  {
   "cell_type": "code",
   "execution_count": 138,
   "metadata": {},
   "outputs": [],
   "source": [
    "# reshape into X=t,t+1,t+2,t+3 and Y=t+4\n",
    "time_step = 4\n",
    "X_train, y_train = create_dataset(train_data, time_step)\n",
    "X_test, ytest = create_dataset(test_data, time_step)"
   ]
  },
  {
   "cell_type": "code",
   "execution_count": 142,
   "metadata": {},
   "outputs": [
    {
     "data": {
      "text/plain": [
       "((88, 4), (88,))"
      ]
     },
     "execution_count": 142,
     "metadata": {},
     "output_type": "execute_result"
    }
   ],
   "source": [
    "X_train.shape, y_train.shape"
   ]
  },
  {
   "cell_type": "code",
   "execution_count": 143,
   "metadata": {},
   "outputs": [],
   "source": [
    "import numpy as np\n",
    "# reshape input to be [samples, time steps, features] which is required for LSTM\n",
    "X_train =X_train.reshape(X_train.shape[0], 4, 1)\n",
    "X_test = X_test.reshape(X_test.shape[0], 4, 1)"
   ]
  },
  {
   "cell_type": "code",
   "execution_count": 145,
   "metadata": {},
   "outputs": [
    {
     "data": {
      "text/plain": [
       "(88, 4, 1)"
      ]
     },
     "execution_count": 145,
     "metadata": {},
     "output_type": "execute_result"
    }
   ],
   "source": [
    "X_train.shape"
   ]
  },
  {
   "cell_type": "code",
   "execution_count": 146,
   "metadata": {},
   "outputs": [],
   "source": [
    "### Create the LSTM model\n",
    "from tensorflow.keras.models import Sequential\n",
    "from tensorflow.keras.layers import Dense\n",
    "from tensorflow.keras.layers import LSTM"
   ]
  },
  {
   "cell_type": "code",
   "execution_count": 148,
   "metadata": {},
   "outputs": [
    {
     "name": "stdout",
     "output_type": "stream",
     "text": [
      "Train on 88 samples, validate on 46 samples\n",
      "Epoch 1/100\n",
      "88/88 [==============================] - 6s 72ms/sample - loss: 0.0131 - val_loss: 0.0303\n",
      "Epoch 2/100\n",
      "88/88 [==============================] - 1s 16ms/sample - loss: 0.0069 - val_loss: 0.0296\n",
      "Epoch 3/100\n",
      "88/88 [==============================] - 1s 14ms/sample - loss: 0.0052 - val_loss: 0.0278\n",
      "Epoch 4/100\n",
      "88/88 [==============================] - 1s 15ms/sample - loss: 0.0054 - val_loss: 0.0310\n",
      "Epoch 5/100\n",
      "88/88 [==============================] - 1s 16ms/sample - loss: 0.0057 - val_loss: 0.0272\n",
      "Epoch 6/100\n",
      "88/88 [==============================] - 1s 14ms/sample - loss: 0.0055 - val_loss: 0.0386\n",
      "Epoch 7/100\n",
      "88/88 [==============================] - 1s 11ms/sample - loss: 0.0054 - val_loss: 0.0254\n",
      "Epoch 8/100\n",
      "88/88 [==============================] - 1s 16ms/sample - loss: 0.0057 - val_loss: 0.0251\n",
      "Epoch 9/100\n",
      "88/88 [==============================] - 1s 16ms/sample - loss: 0.0047 - val_loss: 0.0273\n",
      "Epoch 10/100\n",
      "88/88 [==============================] - 1s 16ms/sample - loss: 0.0046 - val_loss: 0.0235\n",
      "Epoch 11/100\n",
      "88/88 [==============================] - 1s 16ms/sample - loss: 0.0050 - val_loss: 0.0210\n",
      "Epoch 12/100\n",
      "88/88 [==============================] - 1s 17ms/sample - loss: 0.0047 - val_loss: 0.0197\n",
      "Epoch 13/100\n",
      "88/88 [==============================] - 1s 15ms/sample - loss: 0.0048 - val_loss: 0.0183\n",
      "Epoch 14/100\n",
      "88/88 [==============================] - 1s 17ms/sample - loss: 0.0045 - val_loss: 0.0171\n",
      "Epoch 15/100\n",
      "88/88 [==============================] - 1s 16ms/sample - loss: 0.0036 - val_loss: 0.0267\n",
      "Epoch 16/100\n",
      "88/88 [==============================] - 1s 16ms/sample - loss: 0.0040 - val_loss: 0.0133\n",
      "Epoch 17/100\n",
      "88/88 [==============================] - 1s 16ms/sample - loss: 0.0034 - val_loss: 0.0109\n",
      "Epoch 18/100\n",
      "88/88 [==============================] - 1s 17ms/sample - loss: 0.0032 - val_loss: 0.0153\n",
      "Epoch 19/100\n",
      "88/88 [==============================] - 1s 16ms/sample - loss: 0.0028 - val_loss: 0.0163\n",
      "Epoch 20/100\n",
      "88/88 [==============================] - 1s 12ms/sample - loss: 0.0034 - val_loss: 0.0083\n",
      "Epoch 21/100\n",
      "88/88 [==============================] - 1s 14ms/sample - loss: 0.0026 - val_loss: 0.0074\n",
      "Epoch 22/100\n",
      "88/88 [==============================] - 1s 17ms/sample - loss: 0.0022 - val_loss: 0.0091\n",
      "Epoch 23/100\n",
      "88/88 [==============================] - 1s 15ms/sample - loss: 0.0030 - val_loss: 0.0082\n",
      "Epoch 24/100\n",
      "88/88 [==============================] - 1s 16ms/sample - loss: 0.0023 - val_loss: 0.0075\n",
      "Epoch 25/100\n",
      "88/88 [==============================] - 1s 16ms/sample - loss: 0.0019 - val_loss: 0.0100\n",
      "Epoch 26/100\n",
      "88/88 [==============================] - 1s 16ms/sample - loss: 0.0021 - val_loss: 0.0063\n",
      "Epoch 27/100\n",
      "88/88 [==============================] - 1s 13ms/sample - loss: 0.0022 - val_loss: 0.0091\n",
      "Epoch 28/100\n",
      "88/88 [==============================] - 1s 15ms/sample - loss: 0.0020 - val_loss: 0.0079\n",
      "Epoch 29/100\n",
      "88/88 [==============================] - 1s 15ms/sample - loss: 0.0019 - val_loss: 0.0098\n",
      "Epoch 30/100\n",
      "88/88 [==============================] - 1s 15ms/sample - loss: 0.0020 - val_loss: 0.0080\n",
      "Epoch 31/100\n",
      "88/88 [==============================] - 1s 15ms/sample - loss: 0.0018 - val_loss: 0.0133\n",
      "Epoch 32/100\n",
      "88/88 [==============================] - 1s 15ms/sample - loss: 0.0019 - val_loss: 0.0107\n",
      "Epoch 33/100\n",
      "88/88 [==============================] - 1s 14ms/sample - loss: 0.0019 - val_loss: 0.0104\n",
      "Epoch 34/100\n",
      "88/88 [==============================] - 1s 16ms/sample - loss: 0.0019 - val_loss: 0.0101\n",
      "Epoch 35/100\n",
      "88/88 [==============================] - 1s 16ms/sample - loss: 0.0023 - val_loss: 0.0085\n",
      "Epoch 36/100\n",
      "88/88 [==============================] - 1s 13ms/sample - loss: 0.0018 - val_loss: 0.0123\n",
      "Epoch 37/100\n",
      "88/88 [==============================] - 1s 16ms/sample - loss: 0.0019 - val_loss: 0.0107\n",
      "Epoch 38/100\n",
      "88/88 [==============================] - 1s 16ms/sample - loss: 0.0020 - val_loss: 0.0119\n",
      "Epoch 39/100\n",
      "88/88 [==============================] - 1s 15ms/sample - loss: 0.0019 - val_loss: 0.0103\n",
      "Epoch 40/100\n",
      "88/88 [==============================] - 1s 16ms/sample - loss: 0.0021 - val_loss: 0.0303\n",
      "Epoch 41/100\n",
      "88/88 [==============================] - 1s 16ms/sample - loss: 0.0020 - val_loss: 0.0156\n",
      "Epoch 42/100\n",
      "88/88 [==============================] - 1s 16ms/sample - loss: 0.0019 - val_loss: 0.009248e - ETA: 0s - lo\n",
      "Epoch 43/100\n",
      "88/88 [==============================] - 1s 15ms/sample - loss: 0.0018 - val_loss: 0.0087\n",
      "Epoch 44/100\n",
      "88/88 [==============================] - 1s 17ms/sample - loss: 0.0019 - val_loss: 0.0160\n",
      "Epoch 45/100\n",
      "88/88 [==============================] - 1s 14ms/sample - loss: 0.0022 - val_loss: 0.0196\n",
      "Epoch 46/100\n",
      "88/88 [==============================] - 1s 14ms/sample - loss: 0.0022 - val_loss: 0.0083\n",
      "Epoch 47/100\n",
      "88/88 [==============================] - 1s 14ms/sample - loss: 0.0019 - val_loss: 0.0140\n",
      "Epoch 48/100\n",
      "88/88 [==============================] - 1s 14ms/sample - loss: 0.0023 - val_loss: 0.0115\n",
      "Epoch 49/100\n",
      "88/88 [==============================] - 1s 12ms/sample - loss: 0.0019 - val_loss: 0.0156\n",
      "Epoch 50/100\n",
      "88/88 [==============================] - 1s 13ms/sample - loss: 0.0018 - val_loss: 0.0086\n",
      "Epoch 51/100\n",
      "88/88 [==============================] - 1s 17ms/sample - loss: 0.0021 - val_loss: 0.0115\n",
      "Epoch 52/100\n",
      "88/88 [==============================] - 1s 15ms/sample - loss: 0.0018 - val_loss: 0.0140\n",
      "Epoch 53/100\n",
      "88/88 [==============================] - 1s 16ms/sample - loss: 0.0018 - val_loss: 0.0086\n",
      "Epoch 54/100\n",
      "88/88 [==============================] - 1s 16ms/sample - loss: 0.0018 - val_loss: 0.0083\n",
      "Epoch 55/100\n",
      "88/88 [==============================] - 1s 15ms/sample - loss: 0.0018 - val_loss: 0.0154\n",
      "Epoch 56/100\n",
      "88/88 [==============================] - 1s 16ms/sample - loss: 0.0019 - val_loss: 0.0109\n",
      "Epoch 57/100\n",
      "88/88 [==============================] - 1s 15ms/sample - loss: 0.0019 - val_loss: 0.0203\n",
      "Epoch 58/100\n",
      "88/88 [==============================] - 1s 17ms/sample - loss: 0.0021 - val_loss: 0.0095\n",
      "Epoch 59/100\n",
      "88/88 [==============================] - 1s 15ms/sample - loss: 0.0019 - val_loss: 0.0074\n",
      "Epoch 60/100\n",
      "88/88 [==============================] - 1s 14ms/sample - loss: 0.0019 - val_loss: 0.0105\n",
      "Epoch 61/100\n",
      "88/88 [==============================] - 2s 17ms/sample - loss: 0.0019 - val_loss: 0.0073\n",
      "Epoch 62/100\n",
      "88/88 [==============================] - 1s 16ms/sample - loss: 0.0020 - val_loss: 0.0133\n",
      "Epoch 63/100\n",
      "88/88 [==============================] - 1s 15ms/sample - loss: 0.0019 - val_loss: 0.0075\n",
      "Epoch 64/100\n",
      "88/88 [==============================] - 1s 16ms/sample - loss: 0.0018 - val_loss: 0.0123\n",
      "Epoch 65/100\n",
      "88/88 [==============================] - 1s 17ms/sample - loss: 0.0020 - val_loss: 0.0237\n",
      "Epoch 66/100\n",
      "88/88 [==============================] - 1s 16ms/sample - loss: 0.0023 - val_loss: 0.0102\n",
      "Epoch 67/100\n",
      "88/88 [==============================] - 1s 16ms/sample - loss: 0.0021 - val_loss: 0.0278\n",
      "Epoch 68/100\n",
      "88/88 [==============================] - 1s 11ms/sample - loss: 0.0019 - val_loss: 0.0245\n",
      "Epoch 69/100\n",
      "88/88 [==============================] - 1s 15ms/sample - loss: 0.0020 - val_loss: 0.0105\n",
      "Epoch 70/100\n",
      "88/88 [==============================] - 1s 16ms/sample - loss: 0.0019 - val_loss: 0.0139\n",
      "Epoch 71/100\n",
      "88/88 [==============================] - 1s 15ms/sample - loss: 0.0020 - val_loss: 0.0152\n",
      "Epoch 72/100\n",
      "88/88 [==============================] - 1s 14ms/sample - loss: 0.0019 - val_loss: 0.0099\n",
      "Epoch 73/100\n",
      "88/88 [==============================] - 1s 13ms/sample - loss: 0.0018 - val_loss: 0.0163\n",
      "Epoch 74/100\n",
      "88/88 [==============================] - 1s 15ms/sample - loss: 0.0021 - val_loss: 0.0112\n",
      "Epoch 75/100\n",
      "88/88 [==============================] - 1s 15ms/sample - loss: 0.0020 - val_loss: 0.0092\n",
      "Epoch 76/100\n",
      "88/88 [==============================] - 1s 14ms/sample - loss: 0.0019 - val_loss: 0.0196\n",
      "Epoch 77/100\n",
      "88/88 [==============================] - 1s 17ms/sample - loss: 0.0019 - val_loss: 0.0091\n",
      "Epoch 78/100\n",
      "88/88 [==============================] - 1s 14ms/sample - loss: 0.0019 - val_loss: 0.0110\n",
      "Epoch 79/100\n",
      "88/88 [==============================] - 1s 15ms/sample - loss: 0.0018 - val_loss: 0.0128\n",
      "Epoch 80/100\n"
     ]
    },
    {
     "name": "stdout",
     "output_type": "stream",
     "text": [
      "88/88 [==============================] - 1s 15ms/sample - loss: 0.0018 - val_loss: 0.0093\n",
      "Epoch 81/100\n",
      "88/88 [==============================] - 1s 17ms/sample - loss: 0.0018 - val_loss: 0.0081\n",
      "Epoch 82/100\n",
      "88/88 [==============================] - 1s 15ms/sample - loss: 0.0019 - val_loss: 0.0110\n",
      "Epoch 83/100\n",
      "88/88 [==============================] - 1s 16ms/sample - loss: 0.0017 - val_loss: 0.0156\n",
      "Epoch 84/100\n",
      "88/88 [==============================] - 1s 15ms/sample - loss: 0.0020 - val_loss: 0.0081\n",
      "Epoch 85/100\n",
      "88/88 [==============================] - 1s 17ms/sample - loss: 0.0019 - val_loss: 0.0106\n",
      "Epoch 86/100\n",
      "88/88 [==============================] - 1s 15ms/sample - loss: 0.0018 - val_loss: 0.0079\n",
      "Epoch 87/100\n",
      "88/88 [==============================] - 1s 16ms/sample - loss: 0.0018 - val_loss: 0.0088\n",
      "Epoch 88/100\n",
      "88/88 [==============================] - 1s 15ms/sample - loss: 0.0018 - val_loss: 0.0091\n",
      "Epoch 89/100\n",
      "88/88 [==============================] - 1s 16ms/sample - loss: 0.0019 - val_loss: 0.0146\n",
      "Epoch 90/100\n",
      "88/88 [==============================] - 1s 16ms/sample - loss: 0.0020 - val_loss: 0.0228\n",
      "Epoch 91/100\n",
      "88/88 [==============================] - 1s 16ms/sample - loss: 0.0019 - val_loss: 0.0104\n",
      "Epoch 92/100\n",
      "88/88 [==============================] - 1s 16ms/sample - loss: 0.0020 - val_loss: 0.0184\n",
      "Epoch 93/100\n",
      "88/88 [==============================] - 1s 17ms/sample - loss: 0.0019 - val_loss: 0.0134\n",
      "Epoch 94/100\n",
      "88/88 [==============================] - 1s 13ms/sample - loss: 0.0019 - val_loss: 0.0152\n",
      "Epoch 95/100\n",
      "88/88 [==============================] - 1s 15ms/sample - loss: 0.0022 - val_loss: 0.0079\n",
      "Epoch 96/100\n",
      "88/88 [==============================] - 1s 15ms/sample - loss: 0.0022 - val_loss: 0.0080\n",
      "Epoch 97/100\n",
      "88/88 [==============================] - 1s 16ms/sample - loss: 0.0020 - val_loss: 0.0181\n",
      "Epoch 98/100\n",
      "88/88 [==============================] - 1s 16ms/sample - loss: 0.0020 - val_loss: 0.0118\n",
      "Epoch 99/100\n",
      "88/88 [==============================] - 1s 15ms/sample - loss: 0.0020 - val_loss: 0.0082\n",
      "Epoch 100/100\n",
      "88/88 [==============================] - 1s 14ms/sample - loss: 0.0020 - val_loss: 0.0071\n"
     ]
    },
    {
     "data": {
      "text/plain": [
       "<tensorflow.python.keras.callbacks.History at 0x2237afa7b08>"
      ]
     },
     "execution_count": 148,
     "metadata": {},
     "output_type": "execute_result"
    }
   ],
   "source": [
    "model=Sequential()\n",
    "model.add(LSTM(50,return_sequences=True,input_shape=(4,1)))\n",
    "model.add(LSTM(50))\n",
    "model.add(Dense(1))\n",
    "model.compile(loss='mean_squared_error',optimizer='adam')\n",
    "model.fit(X_train,y_train,validation_data=(X_test,ytest),epochs=100,batch_size=1,verbose=1)"
   ]
  },
  {
   "cell_type": "code",
   "execution_count": 149,
   "metadata": {},
   "outputs": [],
   "source": [
    "### Lets Do the prediction and check performance metrics\n",
    "train_predict=model.predict(X_train)\n",
    "test_predict=model.predict(X_test)\n"
   ]
  },
  {
   "cell_type": "code",
   "execution_count": 150,
   "metadata": {},
   "outputs": [
    {
     "data": {
      "text/plain": [
       "array([[0.4273459 ],\n",
       "       [0.39266744],\n",
       "       [0.5753375 ],\n",
       "       [0.45856705],\n",
       "       [0.5316926 ],\n",
       "       [0.72420573],\n",
       "       [0.7311156 ],\n",
       "       [0.6938703 ],\n",
       "       [0.48870337],\n",
       "       [0.44831237],\n",
       "       [0.3761395 ],\n",
       "       [0.51805687],\n",
       "       [0.4668108 ],\n",
       "       [0.41792434],\n",
       "       [0.58433825],\n",
       "       [0.4520072 ],\n",
       "       [0.5590253 ],\n",
       "       [0.7523994 ],\n",
       "       [0.7976886 ],\n",
       "       [0.767148  ],\n",
       "       [0.39724514],\n",
       "       [0.52574867],\n",
       "       [0.35125646],\n",
       "       [0.52117497],\n",
       "       [0.52783203],\n",
       "       [0.4553888 ],\n",
       "       [0.7050053 ],\n",
       "       [0.5184172 ],\n",
       "       [0.69247806],\n",
       "       [0.78297424],\n",
       "       [0.95002615],\n",
       "       [0.7852944 ],\n",
       "       [0.49163195],\n",
       "       [0.57448447],\n",
       "       [0.4227872 ],\n",
       "       [0.6747747 ],\n",
       "       [0.5917878 ],\n",
       "       [0.535565  ],\n",
       "       [0.6914606 ],\n",
       "       [0.73472893],\n",
       "       [0.70014304],\n",
       "       [0.9537343 ],\n",
       "       [1.0493503 ],\n",
       "       [0.72798485],\n",
       "       [0.581463  ],\n",
       "       [0.62535465]], dtype=float32)"
      ]
     },
     "execution_count": 150,
     "metadata": {},
     "output_type": "execute_result"
    }
   ],
   "source": [
    "test_predict"
   ]
  },
  {
   "cell_type": "code",
   "execution_count": 151,
   "metadata": {},
   "outputs": [],
   "source": [
    "##Transformback to original form\n",
    "train_predict=scaler.inverse_transform(train_predict)\n",
    "test_predict=scaler.inverse_transform(test_predict)"
   ]
  },
  {
   "cell_type": "code",
   "execution_count": 152,
   "metadata": {},
   "outputs": [
    {
     "data": {
      "text/plain": [
       "array([[325.36517],\n",
       "       [307.40173],\n",
       "       [402.02484],\n",
       "       [341.53772],\n",
       "       [379.41678],\n",
       "       [479.13858],\n",
       "       [482.7179 ],\n",
       "       [463.42484],\n",
       "       [357.14835],\n",
       "       [336.2258 ],\n",
       "       [298.84024],\n",
       "       [372.3535 ],\n",
       "       [345.80798],\n",
       "       [320.48483],\n",
       "       [406.68723],\n",
       "       [338.13974],\n",
       "       [393.5751 ],\n",
       "       [493.7429 ],\n",
       "       [517.2027 ],\n",
       "       [501.3827 ],\n",
       "       [309.77298],\n",
       "       [376.33783],\n",
       "       [285.95084],\n",
       "       [373.96866],\n",
       "       [377.417  ],\n",
       "       [339.89142],\n",
       "       [469.19275],\n",
       "       [372.5401 ],\n",
       "       [462.70364],\n",
       "       [509.58066],\n",
       "       [596.1135 ],\n",
       "       [510.78253],\n",
       "       [358.66534],\n",
       "       [401.58298],\n",
       "       [323.00378],\n",
       "       [453.53333],\n",
       "       [410.5461 ],\n",
       "       [381.4227 ],\n",
       "       [462.1766 ],\n",
       "       [484.5896 ],\n",
       "       [466.6741 ],\n",
       "       [598.03436],\n",
       "       [647.5634 ],\n",
       "       [481.09616],\n",
       "       [405.19785],\n",
       "       [427.93372]], dtype=float32)"
      ]
     },
     "execution_count": 152,
     "metadata": {},
     "output_type": "execute_result"
    }
   ],
   "source": [
    "test_predict"
   ]
  },
  {
   "cell_type": "code",
   "execution_count": 119,
   "metadata": {},
   "outputs": [
    {
     "data": {
      "text/plain": [
       "((88,), (88, 1), array([[134.64523],\n",
       "        [128.59067],\n",
       "        [141.92691],\n",
       "        [153.241  ],\n",
       "        [153.2525 ],\n",
       "        [143.15608],\n",
       "        [128.55727],\n",
       "        [115.01624],\n",
       "        [125.72525],\n",
       "        [121.63115],\n",
       "        [131.65364],\n",
       "        [145.89082],\n",
       "        [140.48723],\n",
       "        [132.90254],\n",
       "        [156.01398],\n",
       "        [174.75351],\n",
       "        [174.16092],\n",
       "        [164.32552],\n",
       "        [141.81883],\n",
       "        [125.50606],\n",
       "        [148.10187],\n",
       "        [149.84183],\n",
       "        [155.48618],\n",
       "        [184.75006],\n",
       "        [166.47006],\n",
       "        [180.45091],\n",
       "        [185.11105],\n",
       "        [207.31831],\n",
       "        [203.74516],\n",
       "        [189.31964],\n",
       "        [169.59045],\n",
       "        [155.8966 ],\n",
       "        [175.92435],\n",
       "        [176.72719],\n",
       "        [186.60275],\n",
       "        [200.31685],\n",
       "        [185.503  ],\n",
       "        [191.72025],\n",
       "        [230.13254],\n",
       "        [235.17099],\n",
       "        [250.4789 ],\n",
       "        [206.98386],\n",
       "        [200.16017],\n",
       "        [180.41573],\n",
       "        [206.30147],\n",
       "        [201.48633],\n",
       "        [202.77394],\n",
       "        [250.66025],\n",
       "        [236.47853],\n",
       "        [235.2229 ],\n",
       "        [255.36423],\n",
       "        [275.77637],\n",
       "        [278.5188 ],\n",
       "        [231.46289],\n",
       "        [218.02338],\n",
       "        [186.54167],\n",
       "        [215.83505],\n",
       "        [209.98033],\n",
       "        [192.66168],\n",
       "        [252.56758],\n",
       "        [226.18478],\n",
       "        [244.25972],\n",
       "        [279.4209 ],\n",
       "        [318.62863],\n",
       "        [287.81573],\n",
       "        [255.43947],\n",
       "        [232.96889],\n",
       "        [209.35075],\n",
       "        [246.38982],\n",
       "        [249.24844],\n",
       "        [236.17142],\n",
       "        [286.44238],\n",
       "        [270.6174 ],\n",
       "        [278.0417 ],\n",
       "        [341.8935 ],\n",
       "        [385.58502],\n",
       "        [326.14752],\n",
       "        [305.59183],\n",
       "        [267.6547 ],\n",
       "        [236.47443],\n",
       "        [306.91772],\n",
       "        [284.3767 ],\n",
       "        [281.17413],\n",
       "        [344.341  ],\n",
       "        [305.3667 ],\n",
       "        [330.1794 ],\n",
       "        [411.42563],\n",
       "        [420.483  ]], dtype=float32))"
      ]
     },
     "execution_count": 119,
     "metadata": {},
     "output_type": "execute_result"
    }
   ],
   "source": [
    "y_train.shape,train_predict.shape,train_predict"
   ]
  },
  {
   "cell_type": "code",
   "execution_count": 153,
   "metadata": {},
   "outputs": [
    {
     "data": {
      "text/plain": [
       "229.45787381607633"
      ]
     },
     "execution_count": 153,
     "metadata": {},
     "output_type": "execute_result"
    }
   ],
   "source": [
    "### Calculate RMSE performance metrics\n",
    "import math\n",
    "from sklearn.metrics import mean_squared_error\n",
    "math.sqrt(mean_squared_error(y_train,train_predict))"
   ]
  },
  {
   "cell_type": "code",
   "execution_count": 154,
   "metadata": {},
   "outputs": [
    {
     "data": {
      "text/plain": [
       "423.90958338511086"
      ]
     },
     "execution_count": 154,
     "metadata": {},
     "output_type": "execute_result"
    }
   ],
   "source": [
    "### Test Data RMSE\n",
    "math.sqrt(mean_squared_error(ytest,test_predict))"
   ]
  },
  {
   "cell_type": "code",
   "execution_count": 122,
   "metadata": {},
   "outputs": [
    {
     "data": {
      "image/png": "[encoded data removed]",
      "text/plain": [
       "<Figure size 432x288 with 1 Axes>"
      ]
     },
     "metadata": {
      "needs_background": "light"
     },
     "output_type": "display_data"
    }
   ],
   "source": [
    "### Plotting \n",
    "# shift train predictions for plotting\n",
    "lookback=4\n",
    "trainPredictPlot = numpy.empty_like(df)\n",
    "trainPredictPlot[:, :] = np.nan\n",
    "trainPredictPlot[look_back:len(train_predict)+look_back, :] = train_predict\n",
    "# shift test predictions for plotting\n",
    "testPredictPlot = numpy.empty_like(df)\n",
    "testPredictPlot[:, :] = numpy.nan\n",
    "testPredictPlot[len(train_predict)+(look_back*2)+1:len(df)-1, :] = test_predict\n",
    "# plot baseline and predictions\n",
    "plt.plot(scaler.inverse_transform(df))\n",
    "plt.plot(trainPredictPlot)\n",
    "plt.plot(testPredictPlot)\n",
    "plt.show()"
   ]
  },
  {
   "cell_type": "code",
   "execution_count": null,
   "metadata": {},
   "outputs": [],
   "source": []
  }
 ],
 "metadata": {
  "kernelspec": {
   "display_name": "Python 3",
   "language": "python",
   "name": "python3"
  },
  "language_info": {
   "codemirror_mode": {
    "name": "ipython",
    "version": 3
   },
   "file_extension": ".py",
   "mimetype": "text/x-python",
   "name": "python",
   "nbconvert_exporter": "python",
   "pygments_lexer": "ipython3",
   "version": "3.7.4"
  }
 },
 "nbformat": 4,
 "nbformat_minor": 2
}
